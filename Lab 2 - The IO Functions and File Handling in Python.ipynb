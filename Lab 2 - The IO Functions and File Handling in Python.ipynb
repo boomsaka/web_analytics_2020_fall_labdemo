{
 "cells": [
  {
   "cell_type": "markdown",
   "metadata": {},
   "source": [
    "### Part One: The I/O Functions\n",
    "\n",
    "#### Note: You may not need to use all the contents here in the Web Analytics course, but it is always a good idea to learn them.\n",
    "We will cover some basic I/O functions in this lab."
   ]
  },
  {
   "cell_type": "markdown",
   "metadata": {},
   "source": [
    "#### Read Keyboard Input"
   ]
  },
  {
   "cell_type": "code",
   "execution_count": 31,
   "metadata": {},
   "outputs": [
    {
     "name": "stdout",
     "output_type": "stream",
     "text": [
      "Enter something: hello\n",
      "The input is hello\n"
     ]
    }
   ],
   "source": [
    "input_str = input(\"Enter something: \")  # For Python 3.x, use input() . For Python 2.x, use raw_input()\n",
    "print(\"The input is {}\".format(input_str))"
   ]
  },
  {
   "cell_type": "markdown",
   "metadata": {},
   "source": [
    "#### Open and Close Files"
   ]
  },
  {
   "cell_type": "code",
   "execution_count": 32,
   "metadata": {},
   "outputs": [
    {
     "name": "stdout",
     "output_type": "stream",
     "text": [
      "File Name: text.txt\n",
      "File Close or Not: False\n",
      "File Access Mode: wb\n"
     ]
    }
   ],
   "source": [
    "# Open files\n",
    "file = open(\"text.txt\", \"wb\")\n",
    "print(\"File Name: \" + str(file.name))\n",
    "print(\"File Close or Not: \" + str(file.closed))\n",
    "print(\"File Access Mode: \" + str(file.mode))"
   ]
  },
  {
   "cell_type": "code",
   "execution_count": 33,
   "metadata": {},
   "outputs": [],
   "source": [
    "# Close files\n",
    "file.close()  # Why close?"
   ]
  },
  {
   "cell_type": "markdown",
   "metadata": {},
   "source": [
    "#### Read and Write to Files"
   ]
  },
  {
   "cell_type": "code",
   "execution_count": 37,
   "metadata": {},
   "outputs": [
    {
     "name": "stdout",
     "output_type": "stream",
     "text": [
      "\n",
      "Add a new line 1\n",
      "Add another new line 2\n",
      "Add a new line 1\n",
      "Add another new line 2\n",
      "Add a new line 1\n",
      "Add another new line 2\n",
      "Add a new line \n",
      "Add another new line\n"
     ]
    }
   ],
   "source": [
    "# Write to files\n",
    "# Step 1: open/create the file you want to write to\n",
    "f = open(\"text.txt\", \"a\")  # Append mode\n",
    "# Step 2: use write() function to add centents in the file under \"append\" mode\n",
    "f.write(\"\\nAdd a new line \\nAdd another new line\")\n",
    "# Step 3: close the file\n",
    "f.close()\n",
    "\n",
    "# Read files\n",
    "f = open(\"text.txt\", \"r+\")\n",
    "print(f.read())\n",
    "f.close()"
   ]
  },
  {
   "cell_type": "markdown",
   "metadata": {},
   "source": [
    "#### Best Practice to Work with Files: Use Context Manager"
   ]
  },
  {
   "cell_type": "code",
   "execution_count": 38,
   "metadata": {},
   "outputs": [
    {
     "name": "stdout",
     "output_type": "stream",
     "text": [
      "\n",
      "Add a new line 1\n",
      "Add another new line 2\n",
      "Add a new line 1\n",
      "Add another new line 2\n",
      "Add a new line 1\n",
      "Add another new line 2\n",
      "Add a new line \n",
      "Add another new line\n"
     ]
    }
   ],
   "source": [
    "# Open a .txt file use context manager\n",
    "with open('text.txt', 'r') as f:\n",
    "    print(f.read())  # read in the entire content in the flie"
   ]
  },
  {
   "cell_type": "markdown",
   "metadata": {},
   "source": [
    "#### Another example working with json files using context manager"
   ]
  },
  {
   "cell_type": "code",
   "execution_count": 1,
   "metadata": {},
   "outputs": [
    {
     "name": "stdout",
     "output_type": "stream",
     "text": [
      "<class 'dict'>\n",
      "id: 1\n",
      "name: Pete\n",
      "age: 3\n",
      "id: 2\n",
      "name: Andy\n",
      "age: 2\n",
      "id: 3\n",
      "name: Helen\n",
      "age: 4\n"
     ]
    }
   ],
   "source": [
    "import json\n",
    "\n",
    "# read file\n",
    "with open('kids.json', 'r') as f:\n",
    "    obj = json.load(f)  # load json file to a Python object\n",
    "    print(type(obj))\n",
    "\n",
    "# show values\n",
    "for kid in obj['Students']:\n",
    "    print(\"id: \" + str(kid['id']))\n",
    "    print(\"name: \" + str(kid['name']))\n",
    "    print(\"age: \" + str(kid['age']))\n",
    "    \n",
    "with open('new_text.json', 'w') as f:\n",
    "    json.dump(obj, f)"
   ]
  },
  {
   "cell_type": "markdown",
   "metadata": {},
   "source": [
    "### Part Two: The OS Module (Optional)\n",
    "The OS module allows us to interact with the underlying operating system in a several different ways.\n",
    "- Navigate the file system\n",
    "- Get information from files\n",
    "- Rename and delete files\n",
    "- ...\n",
    "\n",
    "To start off, import the os module. Since it is a built-in module, you do not need to install anything."
   ]
  },
  {
   "cell_type": "code",
   "execution_count": null,
   "metadata": {},
   "outputs": [],
   "source": [
    "import os"
   ]
  },
  {
   "cell_type": "markdown",
   "metadata": {},
   "source": [
    "#### Rename files"
   ]
  },
  {
   "cell_type": "code",
   "execution_count": 41,
   "metadata": {},
   "outputs": [],
   "source": [
    "# Rename a file from text.txt to text2.txt\n",
    "os.rename(\"text.txt\", \"text2.txt\")"
   ]
  },
  {
   "cell_type": "markdown",
   "metadata": {},
   "source": [
    "#### Delete Files"
   ]
  },
  {
   "cell_type": "code",
   "execution_count": 42,
   "metadata": {},
   "outputs": [],
   "source": [
    "os.remove('text2.txt')"
   ]
  },
  {
   "cell_type": "markdown",
   "metadata": {},
   "source": [
    "#### Create New Directory in the Current Directory"
   ]
  },
  {
   "cell_type": "code",
   "execution_count": 37,
   "metadata": {},
   "outputs": [],
   "source": [
    "os.mkdir(\"test\")"
   ]
  },
  {
   "cell_type": "markdown",
   "metadata": {},
   "source": [
    "#### Change Directory"
   ]
  },
  {
   "cell_type": "code",
   "execution_count": 41,
   "metadata": {},
   "outputs": [],
   "source": [
    "os.chdir(\"/Users/mandili/Desktop\") "
   ]
  },
  {
   "cell_type": "markdown",
   "metadata": {},
   "source": [
    "#### Get the Current Working Directory"
   ]
  },
  {
   "cell_type": "code",
   "execution_count": 42,
   "metadata": {},
   "outputs": [
    {
     "data": {
      "text/plain": [
       "'/Users/mandili/Desktop'"
      ]
     },
     "execution_count": 42,
     "metadata": {},
     "output_type": "execute_result"
    }
   ],
   "source": [
    "os.getcwd()"
   ]
  },
  {
   "cell_type": "markdown",
   "metadata": {},
   "source": [
    "#### Delete Directory"
   ]
  },
  {
   "cell_type": "code",
   "execution_count": 43,
   "metadata": {},
   "outputs": [],
   "source": [
    "os.rmdir('/Users/mandili/Desktop/test')"
   ]
  },
  {
   "cell_type": "markdown",
   "metadata": {},
   "source": [
    "### Part Three: Import Data from Various File Types\n",
    "You will learn how to open, read and write data into flat files using Python. Some common file types you may encounter later on are .csv, .json, .txt, and .xlsx. \n",
    "\n",
    "We will work with the pandas package to convert files into a pandas dataframe.\n",
    "\n",
    "Quick note about Pandas: it is a software library written for the Python programming language for data manipulation and analysis, please refer to the official documentation to learn more. \n",
    "https://pandas.pydata.org/"
   ]
  },
  {
   "cell_type": "markdown",
   "metadata": {},
   "source": [
    "#### Work with .csv/.txt"
   ]
  },
  {
   "cell_type": "code",
   "execution_count": null,
   "metadata": {},
   "outputs": [],
   "source": [
    "import pandas as pd\n",
    "\n",
    "# csv - comma separated values\n",
    "df_csv = pd.read_csv (r'Path where the CSV/TXT file is stored\\File name.csv/.txt')\n",
    "print(df_csv)\n",
    "\n",
    "# txt - plain text files usually contain data which is properly comma/space separated\n",
    "df_txt = pd.read_csv('output_list.txt', sep=\" \", header=None, names=[\"a\", \"b\", \"c\"])  # Specify column names if you know them"
   ]
  },
  {
   "cell_type": "markdown",
   "metadata": {},
   "source": [
    "#### Work with .json"
   ]
  },
  {
   "cell_type": "code",
   "execution_count": 45,
   "metadata": {},
   "outputs": [
    {
     "name": "stdout",
     "output_type": "stream",
     "text": [
      "                               Students\n",
      "0   {'id': 1, 'name': 'Pete', 'age': 3}\n",
      "1   {'id': 2, 'name': 'Andy', 'age': 2}\n",
      "2  {'id': 3, 'name': 'Helen', 'age': 4}\n"
     ]
    }
   ],
   "source": [
    "df = pd.read_json(r'kids.json', orient='records')\n",
    "print(df)  # You can see the result is not exactly what we wanted..."
   ]
  },
  {
   "cell_type": "code",
   "execution_count": 52,
   "metadata": {
    "scrolled": true
   },
   "outputs": [
    {
     "name": "stdout",
     "output_type": "stream",
     "text": [
      "   id   name  age\n",
      "0   1   Pete    3\n",
      "1   2   Andy    2\n",
      "2   3  Helen    4\n"
     ]
    }
   ],
   "source": [
    "from pandas.io.json import json_normalize\n",
    "with open('kids.json', 'r') as f:\n",
    "    obj = json.load(f) \n",
    "    df = json_normalize(obj['Students'])\n",
    "    print(df)"
   ]
  },
  {
   "cell_type": "markdown",
   "metadata": {},
   "source": [
    "#### Work with .xlsx/.xls (Excel)"
   ]
  },
  {
   "cell_type": "code",
   "execution_count": null,
   "metadata": {},
   "outputs": [],
   "source": [
    "df = pd.read_excel (r'Path where the Excel file is stored\\File name.xlsx')\n",
    "# if you have a specific Excel sheet that you’d like to import, specify it in 'sheet_name'\n",
    "df = pd.read_excel (r'Path where the Excel file is stored\\File name.xlsx', sheet_name='your Excel sheet name')"
   ]
  },
  {
   "cell_type": "markdown",
   "metadata": {},
   "source": [
    "#### Other useful links to learn more about Python\n",
    "The official Site: https://www.python.org/doc/\n",
    "\n",
    "W3Schools: https://www.w3schools.com/python/\n",
    "\n",
    "Python Video Tutorial (Programming with Mosh):https://www.youtube.com/watch?v=_uQrJ0TkZlc\n",
    "\n",
    "Happy Learning!"
   ]
  }
 ],
 "metadata": {
  "kernelspec": {
   "display_name": "Python 3",
   "language": "python",
   "name": "python3"
  },
  "language_info": {
   "codemirror_mode": {
    "name": "ipython",
    "version": 3
   },
   "file_extension": ".py",
   "mimetype": "text/x-python",
   "name": "python",
   "nbconvert_exporter": "python",
   "pygments_lexer": "ipython3",
   "version": "3.7.4"
  }
 },
 "nbformat": 4,
 "nbformat_minor": 2
}

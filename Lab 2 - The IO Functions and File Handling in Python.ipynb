{
 "cells": [
  {
   "cell_type": "markdown",
   "metadata": {},
   "source": [
    "### Part One: The I/O Functions\n",
    "\n",
    "#### Note: You may not need to use all the contents here in the Web Analytics course, but it is always a good idea to learn them.\n",
    "We will cover some basic I/O functions in this lab."
   ]
  },
  {
   "cell_type": "markdown",
   "metadata": {},
   "source": [
    "#### Read Keyboard Input"
   ]
  },
  {
   "cell_type": "code",
   "execution_count": 1,
   "metadata": {},
   "outputs": [
    {
     "name": "stdout",
     "output_type": "stream",
     "text": [
      "Enter something: haha\n",
      "The input is haha\n"
     ]
    }
   ],
   "source": [
    "# Ask for user input and print it\n",
    "\n",
    "# input_str will store the user input\n",
    "input_str = input(\"Enter something: \")  # For Python 3.x, use input() . For Python 2.x, use raw_input()\n",
    "print(\"The input is {}\".format(input_str))"
   ]
  },
  {
   "cell_type": "markdown",
   "metadata": {},
   "source": [
    "#### Open and Close Files"
   ]
  },
  {
   "cell_type": "markdown",
   "metadata": {},
   "source": [
    "Cheat Sheet for Access Modes:\n",
    "- \"r\": Opens the file in read-only mode. Starts reading from the beginning of the file and is the default mode for the open() function.\n",
    "- \"w\": Opens in write-only mode. The pointer is placed at the beginning of the file and this will overwrite any existing file with the same name. It will create a new file if one with the same name doesn't exist.\n",
    "- \"a\": Opens a file for appending new information to it. The pointer is placed at the end of the file. A new file is created if one with the same name doesn't exist.\n",
    "- \"r+\": Opens a file for reading and writing, placing the pointer at the beginning of the file.\n",
    "- \"a+\": Opens a file for both appending and reading."
   ]
  },
  {
   "cell_type": "code",
   "execution_count": 2,
   "metadata": {},
   "outputs": [
    {
     "name": "stdout",
     "output_type": "stream",
     "text": [
      "File Name: text.txt\n",
      "File Close or Not: False\n",
      "File Access Mode: w\n"
     ]
    }
   ],
   "source": [
    "# Open files in write-only mode, create a new file if the specified file does not exit\n",
    "file = open(\"text.txt\", \"w\")\n",
    "print(\"File Name: \" + str(file.name))\n",
    "print(\"File Close or Not: \" + str(file.closed))\n",
    "print(\"File Access Mode: \" + str(file.mode))"
   ]
  },
  {
   "cell_type": "code",
   "execution_count": 3,
   "metadata": {},
   "outputs": [],
   "source": [
    "# Close files\n",
    "file.close()  # Why CLOSE?? Free up space in RAM, unable to see the edits"
   ]
  },
  {
   "cell_type": "markdown",
   "metadata": {},
   "source": [
    "#### Read and Write to Files"
   ]
  },
  {
   "cell_type": "code",
   "execution_count": 4,
   "metadata": {},
   "outputs": [],
   "source": [
    "# Open and write to files\n",
    "\n",
    "# Step 1: open/create the file you want to write to\n",
    "f = open(\"text.txt\", \"a\")  # Append mode: pointer placed at the end of the file\n",
    "\n",
    "# Step 2: use write() function to add centents in the file under \"append\" mode\n",
    "f.write(\"Let's add some numbers!\\n\")\n",
    "\n",
    "# Use a for loop to append 10 numbers: 0 ~ 9 \n",
    "for i in range(10):\n",
    "    f.write(str(i)+\"\\n\")\n",
    "\n",
    "# Step 3: close the file\n",
    "f.close()"
   ]
  },
  {
   "cell_type": "code",
   "execution_count": 5,
   "metadata": {},
   "outputs": [
    {
     "name": "stdout",
     "output_type": "stream",
     "text": [
      "Let's add some numbers!\n",
      "0\n",
      "1\n",
      "2\n",
      "3\n",
      "4\n",
      "5\n",
      "6\n",
      "7\n",
      "8\n",
      "9\n",
      "\n"
     ]
    }
   ],
   "source": [
    "# Read files\n",
    "f = open(\"text.txt\", \"r+\")\n",
    "print(f.read())\n",
    "\n",
    "# Close your file!!\n",
    "f.close()"
   ]
  },
  {
   "cell_type": "markdown",
   "metadata": {},
   "source": [
    "#### Best Practice to Work with Files: Use Context Manager"
   ]
  },
  {
   "cell_type": "code",
   "execution_count": 6,
   "metadata": {},
   "outputs": [],
   "source": [
    "# Open a .txt file use context manager\n",
    "with open('text.txt', 'r') as f:\n",
    "    # f_string = f.read()  # read in the entire content in the file as string\n",
    "    f_list = f.readlines()  # read in the entire content in the file as list"
   ]
  },
  {
   "cell_type": "code",
   "execution_count": 7,
   "metadata": {},
   "outputs": [
    {
     "data": {
      "text/plain": [
       "[\"Let's add some numbers!\", '0', '1', '2', '3', '4', '5', '6', '7', '8', '9']"
      ]
     },
     "execution_count": 7,
     "metadata": {},
     "output_type": "execute_result"
    }
   ],
   "source": [
    "# Convert a text file to a list where each element in the list corresponding to a line in the text file\n",
    "f_content = []\n",
    "with open('text.txt', 'r') as f:\n",
    "    for line in f:\n",
    "        f_content.append(line.strip())\n",
    "f_content"
   ]
  },
  {
   "cell_type": "markdown",
   "metadata": {},
   "source": [
    "#### Another example working with json files using context manager"
   ]
  },
  {
   "cell_type": "code",
   "execution_count": 8,
   "metadata": {},
   "outputs": [
    {
     "name": "stdout",
     "output_type": "stream",
     "text": [
      "<class 'dict'>\n"
     ]
    }
   ],
   "source": [
    "# import json package to get started\n",
    "import json\n",
    "\n",
    "# read file\n",
    "with open('kids.json', 'r') as f:\n",
    "    obj = json.load(f)  # load json file to a Python object\n",
    "    print(type(obj))"
   ]
  },
  {
   "cell_type": "code",
   "execution_count": 9,
   "metadata": {},
   "outputs": [
    {
     "data": {
      "text/plain": [
       "[{'id': 1, 'name': 'Pete', 'age': 3, 'parents': 'human'},\n",
       " {'id': 2, 'name': 'Andy', 'age': 2, 'parents': 'martian'},\n",
       " {'id': 3, 'name': 'Helen', 'age': 4, 'parents': 'subterrnean'}]"
      ]
     },
     "execution_count": 9,
     "metadata": {},
     "output_type": "execute_result"
    }
   ],
   "source": [
    "# TODO: Go to the kids.json file to see the structure and then run codes to see what they do\n",
    "obj['Children']  # shows the value associated with the key \"Children\""
   ]
  },
  {
   "cell_type": "code",
   "execution_count": 10,
   "metadata": {},
   "outputs": [
    {
     "data": {
      "text/plain": [
       "list"
      ]
     },
     "execution_count": 10,
     "metadata": {},
     "output_type": "execute_result"
    }
   ],
   "source": [
    "type(obj['Children']) "
   ]
  },
  {
   "cell_type": "code",
   "execution_count": 11,
   "metadata": {},
   "outputs": [
    {
     "data": {
      "text/plain": [
       "{'id': 1, 'name': 'Pete', 'age': 3, 'parents': 'human'}"
      ]
     },
     "execution_count": 11,
     "metadata": {},
     "output_type": "execute_result"
    }
   ],
   "source": [
    "obj['Children'][0]  # shows the first element in the list "
   ]
  },
  {
   "cell_type": "code",
   "execution_count": 12,
   "metadata": {},
   "outputs": [
    {
     "data": {
      "text/plain": [
       "dict"
      ]
     },
     "execution_count": 12,
     "metadata": {},
     "output_type": "execute_result"
    }
   ],
   "source": [
    "type(obj['Children'][0])"
   ]
  },
  {
   "cell_type": "code",
   "execution_count": 13,
   "metadata": {},
   "outputs": [
    {
     "data": {
      "text/plain": [
       "1"
      ]
     },
     "execution_count": 13,
     "metadata": {},
     "output_type": "execute_result"
    }
   ],
   "source": [
    "obj['Children'][0]['id']"
   ]
  },
  {
   "cell_type": "code",
   "execution_count": 30,
   "metadata": {},
   "outputs": [
    {
     "name": "stdout",
     "output_type": "stream",
     "text": [
      "id: 1\n",
      "name: Pete\n",
      "age: 3\n",
      "id: 2\n",
      "name: Andy\n",
      "age: 2\n",
      "id: 3\n",
      "name: Helen\n",
      "age: 4\n"
     ]
    }
   ],
   "source": [
    "# show values\n",
    "for kid in obj['Children']:\n",
    "    # kid is <dict> type\n",
    "    print(\"id: \" + str(kid['id']))\n",
    "    print(\"name: \" + str(kid['name']))\n",
    "    print(\"age: \" + str(kid['age']))"
   ]
  },
  {
   "cell_type": "code",
   "execution_count": 15,
   "metadata": {},
   "outputs": [],
   "source": [
    "with open('new_text.json', 'w') as f:\n",
    "    json.dump(obj, f)"
   ]
  },
  {
   "cell_type": "markdown",
   "metadata": {},
   "source": [
    "### Part Two: The OS Module (Optional)\n",
    "The OS module allows us to interact with the underlying operating system in a several different ways.\n",
    "- Navigate the file system\n",
    "- Get information from files\n",
    "- Rename and delete files\n",
    "- ...\n",
    "\n",
    "To start off, import the os module. Since it is a built-in module, you do not need to install anything."
   ]
  },
  {
   "cell_type": "code",
   "execution_count": 16,
   "metadata": {},
   "outputs": [],
   "source": [
    "# import os package\n",
    "import os"
   ]
  },
  {
   "cell_type": "markdown",
   "metadata": {},
   "source": [
    "#### Rename files"
   ]
  },
  {
   "cell_type": "code",
   "execution_count": 17,
   "metadata": {},
   "outputs": [],
   "source": [
    "# Rename a file from text.txt to text2.txt\n",
    "os.rename(\"text.txt\", \"text2.txt\")"
   ]
  },
  {
   "cell_type": "markdown",
   "metadata": {},
   "source": [
    "#### Delete Files"
   ]
  },
  {
   "cell_type": "code",
   "execution_count": 18,
   "metadata": {},
   "outputs": [],
   "source": [
    "# Delete a file \n",
    "os.remove('text2.txt')"
   ]
  },
  {
   "cell_type": "markdown",
   "metadata": {},
   "source": [
    "#### Create New Directory in the Current Directory"
   ]
  },
  {
   "cell_type": "code",
   "execution_count": 19,
   "metadata": {},
   "outputs": [],
   "source": [
    "# Create a new directory aka folder in the current working directory\n",
    "os.mkdir(\"test\")"
   ]
  },
  {
   "cell_type": "markdown",
   "metadata": {},
   "source": [
    "#### Change Directory"
   ]
  },
  {
   "cell_type": "code",
   "execution_count": 20,
   "metadata": {},
   "outputs": [],
   "source": [
    "# Change the working directory to the one specified in ()\n",
    "os.chdir(\"/Users/mandili/Desktop\") "
   ]
  },
  {
   "cell_type": "markdown",
   "metadata": {},
   "source": [
    "#### Get the Current Working Directory"
   ]
  },
  {
   "cell_type": "code",
   "execution_count": 21,
   "metadata": {},
   "outputs": [
    {
     "data": {
      "text/plain": [
       "'/Users/mandili/Desktop'"
      ]
     },
     "execution_count": 21,
     "metadata": {},
     "output_type": "execute_result"
    }
   ],
   "source": [
    "# Shows the current working directory\n",
    "os.getcwd()"
   ]
  },
  {
   "cell_type": "markdown",
   "metadata": {},
   "source": [
    "#### Delete Directory"
   ]
  },
  {
   "cell_type": "code",
   "execution_count": 22,
   "metadata": {},
   "outputs": [],
   "source": [
    "os.rmdir('/Users/mandili/Desktop/Web Analytics TA Fall 2020/test')"
   ]
  },
  {
   "cell_type": "markdown",
   "metadata": {},
   "source": [
    "### Part Three: Import Data from Various File Types\n",
    "You will learn how to open, read and write data into flat files using Python. Some common file types you may encounter later on are .csv, .json, .txt, and .xlsx. \n",
    "\n",
    "We will work with the pandas package to convert files into a pandas dataframe.\n",
    "\n",
    "Quick note about Pandas: it is a software library written for the Python programming language for data manipulation and analysis, please refer to the official documentation to learn more. \n",
    "https://pandas.pydata.org/"
   ]
  },
  {
   "cell_type": "markdown",
   "metadata": {},
   "source": [
    "#### Work with .csv/.txt"
   ]
  },
  {
   "cell_type": "code",
   "execution_count": 23,
   "metadata": {},
   "outputs": [
    {
     "data": {
      "text/html": [
       "<div>\n",
       "<style scoped>\n",
       "    .dataframe tbody tr th:only-of-type {\n",
       "        vertical-align: middle;\n",
       "    }\n",
       "\n",
       "    .dataframe tbody tr th {\n",
       "        vertical-align: top;\n",
       "    }\n",
       "\n",
       "    .dataframe thead th {\n",
       "        text-align: right;\n",
       "    }\n",
       "</style>\n",
       "<table border=\"1\" class=\"dataframe\">\n",
       "  <thead>\n",
       "    <tr style=\"text-align: right;\">\n",
       "      <th></th>\n",
       "      <th>Key West Nas /Boca Chica Field (private U. S. Navy )</th>\n",
       "      <th>US</th>\n",
       "      <th>67</th>\n",
       "      <th>NQX</th>\n",
       "    </tr>\n",
       "  </thead>\n",
       "  <tbody>\n",
       "    <tr>\n",
       "      <td>0</td>\n",
       "      <td>A L Mangham Jr. Regional</td>\n",
       "      <td>US</td>\n",
       "      <td>67</td>\n",
       "      <td>OCH</td>\n",
       "    </tr>\n",
       "    <tr>\n",
       "      <td>1</td>\n",
       "      <td>AAF Heliport</td>\n",
       "      <td>US</td>\n",
       "      <td>67</td>\n",
       "      <td>AYE</td>\n",
       "    </tr>\n",
       "    <tr>\n",
       "      <td>2</td>\n",
       "      <td>Aberdeen Regional</td>\n",
       "      <td>US</td>\n",
       "      <td>67</td>\n",
       "      <td>ABR</td>\n",
       "    </tr>\n",
       "    <tr>\n",
       "      <td>3</td>\n",
       "      <td>Abilene Regional</td>\n",
       "      <td>US</td>\n",
       "      <td>67</td>\n",
       "      <td>ABI</td>\n",
       "    </tr>\n",
       "    <tr>\n",
       "      <td>4</td>\n",
       "      <td>Abraham Lincoln Capital</td>\n",
       "      <td>US</td>\n",
       "      <td>67</td>\n",
       "      <td>SPI</td>\n",
       "    </tr>\n",
       "    <tr>\n",
       "      <td>...</td>\n",
       "      <td>...</td>\n",
       "      <td>...</td>\n",
       "      <td>...</td>\n",
       "      <td>...</td>\n",
       "    </tr>\n",
       "    <tr>\n",
       "      <td>2355</td>\n",
       "      <td>Downtown Heliport</td>\n",
       "      <td>VI</td>\n",
       "      <td>4</td>\n",
       "      <td>JCD</td>\n",
       "    </tr>\n",
       "    <tr>\n",
       "      <td>2356</td>\n",
       "      <td>Henry E Rohlsen</td>\n",
       "      <td>VI</td>\n",
       "      <td>4</td>\n",
       "      <td>STX</td>\n",
       "    </tr>\n",
       "    <tr>\n",
       "      <td>2357</td>\n",
       "      <td>SPB</td>\n",
       "      <td>VI</td>\n",
       "      <td>4</td>\n",
       "      <td>SSB</td>\n",
       "    </tr>\n",
       "    <tr>\n",
       "      <td>2358</td>\n",
       "      <td>SPB</td>\n",
       "      <td>VI</td>\n",
       "      <td>4</td>\n",
       "      <td>SPB</td>\n",
       "    </tr>\n",
       "    <tr>\n",
       "      <td>2359</td>\n",
       "      <td>St John Island</td>\n",
       "      <td>VI</td>\n",
       "      <td>4</td>\n",
       "      <td>SJF</td>\n",
       "    </tr>\n",
       "  </tbody>\n",
       "</table>\n",
       "<p>2360 rows × 4 columns</p>\n",
       "</div>"
      ],
      "text/plain": [
       "     Key West Nas /Boca Chica Field (private U. S. Navy )  US  67  NQX\n",
       "0                              A L Mangham Jr. Regional    US  67  OCH\n",
       "1                                          AAF Heliport    US  67  AYE\n",
       "2                                     Aberdeen Regional    US  67  ABR\n",
       "3                                      Abilene Regional    US  67  ABI\n",
       "4                               Abraham Lincoln Capital    US  67  SPI\n",
       "...                                                 ...    ..  ..  ...\n",
       "2355                                  Downtown Heliport    VI   4  JCD\n",
       "2356                                    Henry E Rohlsen    VI   4  STX\n",
       "2357                                                SPB    VI   4  SSB\n",
       "2358                                                SPB    VI   4  SPB\n",
       "2359                                     St John Island    VI   4  SJF\n",
       "\n",
       "[2360 rows x 4 columns]"
      ]
     },
     "execution_count": 23,
     "metadata": {},
     "output_type": "execute_result"
    }
   ],
   "source": [
    "import pandas as pd\n",
    "\n",
    "# csv - comma separated values\n",
    "# df_csv = pd.read_csv (r'Path where the CSV file is stored\\File name.csv')\n",
    "\n",
    "df_csv = pd.read_csv(r'Web Analytics TA Fall 2020/airports.csv')\n",
    "df_csv"
   ]
  },
  {
   "cell_type": "code",
   "execution_count": 24,
   "metadata": {},
   "outputs": [
    {
     "data": {
      "text/html": [
       "<div>\n",
       "<style scoped>\n",
       "    .dataframe tbody tr th:only-of-type {\n",
       "        vertical-align: middle;\n",
       "    }\n",
       "\n",
       "    .dataframe tbody tr th {\n",
       "        vertical-align: top;\n",
       "    }\n",
       "\n",
       "    .dataframe thead th {\n",
       "        text-align: right;\n",
       "    }\n",
       "</style>\n",
       "<table border=\"1\" class=\"dataframe\">\n",
       "  <thead>\n",
       "    <tr style=\"text-align: right;\">\n",
       "      <th></th>\n",
       "      <th>data</th>\n",
       "      <th>time</th>\n",
       "      <th>city</th>\n",
       "      <th>topic</th>\n",
       "      <th>amount</th>\n",
       "      <th>payment type</th>\n",
       "    </tr>\n",
       "  </thead>\n",
       "  <tbody>\n",
       "    <tr>\n",
       "      <td>0</td>\n",
       "      <td>2012-01-01</td>\n",
       "      <td>09:00</td>\n",
       "      <td>San Jose</td>\n",
       "      <td>Men's Clothing</td>\n",
       "      <td>214.05</td>\n",
       "      <td>Amex</td>\n",
       "    </tr>\n",
       "    <tr>\n",
       "      <td>1</td>\n",
       "      <td>2012-01-01</td>\n",
       "      <td>09:00</td>\n",
       "      <td>Fort Worth</td>\n",
       "      <td>Women's Clothing</td>\n",
       "      <td>153.57</td>\n",
       "      <td>Visa</td>\n",
       "    </tr>\n",
       "    <tr>\n",
       "      <td>2</td>\n",
       "      <td>2012-01-01</td>\n",
       "      <td>09:00</td>\n",
       "      <td>San Diego</td>\n",
       "      <td>Music</td>\n",
       "      <td>66.08</td>\n",
       "      <td>Cash</td>\n",
       "    </tr>\n",
       "    <tr>\n",
       "      <td>3</td>\n",
       "      <td>2012-01-01</td>\n",
       "      <td>09:00</td>\n",
       "      <td>Pittsburgh</td>\n",
       "      <td>Pet Supplies</td>\n",
       "      <td>493.51</td>\n",
       "      <td>Discover</td>\n",
       "    </tr>\n",
       "    <tr>\n",
       "      <td>4</td>\n",
       "      <td>2012-01-01</td>\n",
       "      <td>09:00</td>\n",
       "      <td>Omaha</td>\n",
       "      <td>Children's Clothing</td>\n",
       "      <td>235.63</td>\n",
       "      <td>MasterCard</td>\n",
       "    </tr>\n",
       "    <tr>\n",
       "      <td>...</td>\n",
       "      <td>...</td>\n",
       "      <td>...</td>\n",
       "      <td>...</td>\n",
       "      <td>...</td>\n",
       "      <td>...</td>\n",
       "      <td>...</td>\n",
       "    </tr>\n",
       "    <tr>\n",
       "      <td>802</td>\n",
       "      <td>2012-01-01</td>\n",
       "      <td>09:38</td>\n",
       "      <td>St. Louis</td>\n",
       "      <td>DVDs</td>\n",
       "      <td>159.51</td>\n",
       "      <td>Visa</td>\n",
       "    </tr>\n",
       "    <tr>\n",
       "      <td>803</td>\n",
       "      <td>2012-01-01</td>\n",
       "      <td>09:38</td>\n",
       "      <td>Milwaukee</td>\n",
       "      <td>Sporting Goods</td>\n",
       "      <td>74.16</td>\n",
       "      <td>Visa</td>\n",
       "    </tr>\n",
       "    <tr>\n",
       "      <td>804</td>\n",
       "      <td>2012-01-01</td>\n",
       "      <td>09:38</td>\n",
       "      <td>San Bernardino</td>\n",
       "      <td>Toys</td>\n",
       "      <td>394.52</td>\n",
       "      <td>Cash</td>\n",
       "    </tr>\n",
       "    <tr>\n",
       "      <td>805</td>\n",
       "      <td>2012-01-01</td>\n",
       "      <td>09:38</td>\n",
       "      <td>Sacramento</td>\n",
       "      <td>Video Games</td>\n",
       "      <td>97.16</td>\n",
       "      <td>Visa</td>\n",
       "    </tr>\n",
       "    <tr>\n",
       "      <td>806</td>\n",
       "      <td>2012-01-01</td>\n",
       "      <td>09:38</td>\n",
       "      <td>Milwaukee</td>\n",
       "      <td>CDs</td>\n",
       "      <td>NaN</td>\n",
       "      <td>NaN</td>\n",
       "    </tr>\n",
       "  </tbody>\n",
       "</table>\n",
       "<p>807 rows × 6 columns</p>\n",
       "</div>"
      ],
      "text/plain": [
       "           data   time            city                topic  amount  \\\n",
       "0    2012-01-01  09:00        San Jose       Men's Clothing  214.05   \n",
       "1    2012-01-01  09:00      Fort Worth     Women's Clothing  153.57   \n",
       "2    2012-01-01  09:00       San Diego                Music   66.08   \n",
       "3    2012-01-01  09:00      Pittsburgh         Pet Supplies  493.51   \n",
       "4    2012-01-01  09:00           Omaha  Children's Clothing  235.63   \n",
       "..          ...    ...             ...                  ...     ...   \n",
       "802  2012-01-01  09:38       St. Louis                 DVDs  159.51   \n",
       "803  2012-01-01  09:38       Milwaukee       Sporting Goods   74.16   \n",
       "804  2012-01-01  09:38  San Bernardino                 Toys  394.52   \n",
       "805  2012-01-01  09:38      Sacramento          Video Games   97.16   \n",
       "806  2012-01-01  09:38       Milwaukee                  CDs     NaN   \n",
       "\n",
       "    payment type  \n",
       "0           Amex  \n",
       "1           Visa  \n",
       "2           Cash  \n",
       "3       Discover  \n",
       "4     MasterCard  \n",
       "..           ...  \n",
       "802         Visa  \n",
       "803         Visa  \n",
       "804         Cash  \n",
       "805         Visa  \n",
       "806          NaN  \n",
       "\n",
       "[807 rows x 6 columns]"
      ]
     },
     "execution_count": 24,
     "metadata": {},
     "output_type": "execute_result"
    }
   ],
   "source": [
    "# txt - plain text files usually contain data which is properly comma/space separated\n",
    "# df_txt = pd.read_csv('Path where the TXT file is stored\\File name.txt', sep=\" \", header=None, names=[\"a\", \"b\", \"c\"])\n",
    "# Specify column names in names \n",
    "\n",
    "df_txt = pd.read_csv('Web Analytics TA Fall 2020/new_purchases.txt', \n",
    "                     sep='\\t', header=None,  \n",
    "                     names=[\"data\", \"time\", \"city\", \"topic\", \"amount\", \"payment type\"])\n",
    "df_txt"
   ]
  },
  {
   "cell_type": "markdown",
   "metadata": {},
   "source": [
    "#### Work with .json"
   ]
  },
  {
   "cell_type": "code",
   "execution_count": 25,
   "metadata": {},
   "outputs": [
    {
     "data": {
      "text/html": [
       "<div>\n",
       "<style scoped>\n",
       "    .dataframe tbody tr th:only-of-type {\n",
       "        vertical-align: middle;\n",
       "    }\n",
       "\n",
       "    .dataframe tbody tr th {\n",
       "        vertical-align: top;\n",
       "    }\n",
       "\n",
       "    .dataframe thead th {\n",
       "        text-align: right;\n",
       "    }\n",
       "</style>\n",
       "<table border=\"1\" class=\"dataframe\">\n",
       "  <thead>\n",
       "    <tr style=\"text-align: right;\">\n",
       "      <th></th>\n",
       "      <th>Children</th>\n",
       "    </tr>\n",
       "  </thead>\n",
       "  <tbody>\n",
       "    <tr>\n",
       "      <td>0</td>\n",
       "      <td>{'id': 1, 'name': 'Pete', 'age': 3, 'parents':...</td>\n",
       "    </tr>\n",
       "    <tr>\n",
       "      <td>1</td>\n",
       "      <td>{'id': 2, 'name': 'Andy', 'age': 2, 'parents':...</td>\n",
       "    </tr>\n",
       "    <tr>\n",
       "      <td>2</td>\n",
       "      <td>{'id': 3, 'name': 'Helen', 'age': 4, 'parents'...</td>\n",
       "    </tr>\n",
       "  </tbody>\n",
       "</table>\n",
       "</div>"
      ],
      "text/plain": [
       "                                            Children\n",
       "0  {'id': 1, 'name': 'Pete', 'age': 3, 'parents':...\n",
       "1  {'id': 2, 'name': 'Andy', 'age': 2, 'parents':...\n",
       "2  {'id': 3, 'name': 'Helen', 'age': 4, 'parents'..."
      ]
     },
     "execution_count": 25,
     "metadata": {},
     "output_type": "execute_result"
    }
   ],
   "source": [
    "df = pd.read_json(r'Web Analytics TA Fall 2020/kids.json', orient='records')\n",
    "df  # You can see the result is not exactly what we wanted..."
   ]
  },
  {
   "cell_type": "code",
   "execution_count": 26,
   "metadata": {
    "scrolled": true
   },
   "outputs": [
    {
     "data": {
      "text/html": [
       "<div>\n",
       "<style scoped>\n",
       "    .dataframe tbody tr th:only-of-type {\n",
       "        vertical-align: middle;\n",
       "    }\n",
       "\n",
       "    .dataframe tbody tr th {\n",
       "        vertical-align: top;\n",
       "    }\n",
       "\n",
       "    .dataframe thead th {\n",
       "        text-align: right;\n",
       "    }\n",
       "</style>\n",
       "<table border=\"1\" class=\"dataframe\">\n",
       "  <thead>\n",
       "    <tr style=\"text-align: right;\">\n",
       "      <th></th>\n",
       "      <th>id</th>\n",
       "      <th>name</th>\n",
       "      <th>age</th>\n",
       "      <th>parents</th>\n",
       "    </tr>\n",
       "  </thead>\n",
       "  <tbody>\n",
       "    <tr>\n",
       "      <td>0</td>\n",
       "      <td>1</td>\n",
       "      <td>Pete</td>\n",
       "      <td>3</td>\n",
       "      <td>human</td>\n",
       "    </tr>\n",
       "    <tr>\n",
       "      <td>1</td>\n",
       "      <td>2</td>\n",
       "      <td>Andy</td>\n",
       "      <td>2</td>\n",
       "      <td>martian</td>\n",
       "    </tr>\n",
       "    <tr>\n",
       "      <td>2</td>\n",
       "      <td>3</td>\n",
       "      <td>Helen</td>\n",
       "      <td>4</td>\n",
       "      <td>subterrnean</td>\n",
       "    </tr>\n",
       "  </tbody>\n",
       "</table>\n",
       "</div>"
      ],
      "text/plain": [
       "   id   name  age      parents\n",
       "0   1   Pete    3        human\n",
       "1   2   Andy    2      martian\n",
       "2   3  Helen    4  subterrnean"
      ]
     },
     "execution_count": 26,
     "metadata": {},
     "output_type": "execute_result"
    }
   ],
   "source": [
    "from pandas.io.json import json_normalize\n",
    "with open('Web Analytics TA Fall 2020/kids.json', 'r') as f:\n",
    "    obj = json.load(f) \n",
    "    df = json_normalize(obj['Children'])\n",
    "df"
   ]
  },
  {
   "cell_type": "markdown",
   "metadata": {},
   "source": [
    "#### Work with .xlsx/.xls (Excel)"
   ]
  },
  {
   "cell_type": "code",
   "execution_count": 27,
   "metadata": {},
   "outputs": [
    {
     "data": {
      "text/html": [
       "<div>\n",
       "<style scoped>\n",
       "    .dataframe tbody tr th:only-of-type {\n",
       "        vertical-align: middle;\n",
       "    }\n",
       "\n",
       "    .dataframe tbody tr th {\n",
       "        vertical-align: top;\n",
       "    }\n",
       "\n",
       "    .dataframe thead th {\n",
       "        text-align: right;\n",
       "    }\n",
       "</style>\n",
       "<table border=\"1\" class=\"dataframe\">\n",
       "  <thead>\n",
       "    <tr style=\"text-align: right;\">\n",
       "      <th></th>\n",
       "      <th>id</th>\n",
       "      <th>name</th>\n",
       "      <th>age</th>\n",
       "      <th>parents</th>\n",
       "    </tr>\n",
       "  </thead>\n",
       "  <tbody>\n",
       "    <tr>\n",
       "      <td>0</td>\n",
       "      <td>1</td>\n",
       "      <td>Pete</td>\n",
       "      <td>3</td>\n",
       "      <td>human</td>\n",
       "    </tr>\n",
       "    <tr>\n",
       "      <td>1</td>\n",
       "      <td>2</td>\n",
       "      <td>Andy</td>\n",
       "      <td>2</td>\n",
       "      <td>martian</td>\n",
       "    </tr>\n",
       "    <tr>\n",
       "      <td>2</td>\n",
       "      <td>3</td>\n",
       "      <td>Helen</td>\n",
       "      <td>4</td>\n",
       "      <td>subterrnean</td>\n",
       "    </tr>\n",
       "  </tbody>\n",
       "</table>\n",
       "</div>"
      ],
      "text/plain": [
       "   id   name  age      parents\n",
       "0   1   Pete    3        human\n",
       "1   2   Andy    2      martian\n",
       "2   3  Helen    4  subterrnean"
      ]
     },
     "execution_count": 27,
     "metadata": {},
     "output_type": "execute_result"
    }
   ],
   "source": [
    "# df = pd.read_excel (r'Path where the Excel file is stored\\File name.xlsx')\n",
    "df = pd.read_excel(r'Web Analytics TA Fall 2020/kid.xlsx')\n",
    "df\n",
    "# if you have a specific Excel sheet that you’d like to import, specify it in 'sheet_name'\n",
    "# df = pd.read_excel (r'Path where the Excel file is stored\\File name.xlsx', sheet_name='your Excel sheet name')"
   ]
  },
  {
   "cell_type": "markdown",
   "metadata": {},
   "source": [
    "#### Something extra: Print string to text files"
   ]
  },
  {
   "cell_type": "code",
   "execution_count": 28,
   "metadata": {},
   "outputs": [],
   "source": [
    "Amount = 30\n",
    "Total = 100.34\n",
    "with open(\"output.txt\", \"w\") as f:\n",
    "    # f.write(\"Amount: {}\".format(Amount))\n",
    "    f.write(\"Total: {} Amount {}\".format(Total, Amount))"
   ]
  },
  {
   "cell_type": "markdown",
   "metadata": {},
   "source": [
    "#### Other useful links to learn more about Python\n",
    "The official Site: https://www.python.org/doc/\n",
    "\n",
    "W3Schools: https://www.w3schools.com/python/\n",
    "\n",
    "Python Video Tutorial (Programming with Mosh):https://www.youtube.com/watch?v=_uQrJ0TkZlc\n",
    "\n",
    "Happy Learning!"
   ]
  }
 ],
 "metadata": {
  "kernelspec": {
   "display_name": "Python 3",
   "language": "python",
   "name": "python3"
  },
  "language_info": {
   "codemirror_mode": {
    "name": "ipython",
    "version": 3
   },
   "file_extension": ".py",
   "mimetype": "text/x-python",
   "name": "python",
   "nbconvert_exporter": "python",
   "pygments_lexer": "ipython3",
   "version": "3.7.4"
  }
 },
 "nbformat": 4,
 "nbformat_minor": 2
}
